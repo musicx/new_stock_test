{
 "cells": [
  {
   "cell_type": "code",
   "execution_count": 20,
   "metadata": {},
   "outputs": [],
   "source": [
    "from jqdatasdk import *\n",
    "auth('15221518217', 'ZZKww021WW')"
   ]
  },
  {
   "cell_type": "code",
   "execution_count": 2,
   "metadata": {},
   "outputs": [
    {
     "name": "stdout",
     "output_type": "stream",
     "text": [
      "{'000001.XSHE': {'sw_l1': {'industry_code': '801780', 'industry_name': '银行I'}, 'sw_l2': {'industry_code': '801192', 'industry_name': '银行II'}, 'sw_l3': {'industry_code': '851911', 'industry_name': '银行III'}, 'zjw': {'industry_code': 'J66', 'industry_name': '货币金融服务'}, 'jq_l2': {'industry_code': 'HY493', 'industry_name': '多元化银行指数'}, 'jq_l1': {'industry_code': 'HY007', 'industry_name': '金融指数'}}, '000002.XSHE': {'sw_l1': {'industry_code': '801180', 'industry_name': '房地产I'}, 'sw_l2': {'industry_code': '801181', 'industry_name': '房地产开发II'}, 'sw_l3': {'industry_code': '851811', 'industry_name': '房地产开发III'}, 'zjw': {'industry_code': 'K70', 'industry_name': '房地产业'}, 'jq_l2': {'industry_code': 'HY509', 'industry_name': '房地产开发指数'}, 'jq_l1': {'industry_code': 'HY011', 'industry_name': '房地产指数'}}}\n"
     ]
    }
   ],
   "source": [
    "stock_list = ['000001.XSHE','000002.XSHE']\n",
    "d = get_industry(security=stock_list, date=\"2018-06-01\")\n",
    "print(d)"
   ]
  },
  {
   "cell_type": "code",
   "execution_count": 3,
   "metadata": {},
   "outputs": [
    {
     "name": "stdout",
     "output_type": "stream",
     "text": [
      "{'000001.XSHE': {'sw_l1': {'industry_code': '801780', 'industry_name': '银行I'}, 'sw_l2': {'industry_code': '801192', 'industry_name': '银行II'}, 'sw_l3': {'industry_code': '851911', 'industry_name': '银行III'}, 'zjw': {'industry_code': 'J66', 'industry_name': '货币金融服务'}, 'jq_l2': {'industry_code': 'HY493', 'industry_name': '多元化银行指数'}, 'jq_l1': {'industry_code': 'HY007', 'industry_name': '金融指数'}}, '000002.XSHE': {'sw_l1': {'industry_code': '801180', 'industry_name': '房地产I'}, 'sw_l2': {'industry_code': '801181', 'industry_name': '房地产开发II'}, 'sw_l3': {'industry_code': '851811', 'industry_name': '房地产开发III'}, 'zjw': {'industry_code': 'K70', 'industry_name': '房地产业'}, 'jq_l2': {'industry_code': 'HY509', 'industry_name': '房地产开发指数'}, 'jq_l1': {'industry_code': 'HY011', 'industry_name': '房地产指数'}}}\n"
     ]
    }
   ],
   "source": [
    "d = get_industry(security=stock_list, date=\"2020-09-01\")\n",
    "print(d)"
   ]
  },
  {
   "cell_type": "code",
   "execution_count": 4,
   "metadata": {},
   "outputs": [
    {
     "name": "stdout",
     "output_type": "stream",
     "text": [
      "{'600177.XSHG': {'sw_l1': {'industry_code': '801180', 'industry_name': '房地产I'}, 'sw_l2': {'industry_code': '801181', 'industry_name': '房地产开发II'}, 'sw_l3': {'industry_code': '851811', 'industry_name': '房地产开发III'}, 'zjw': {'industry_code': 'C18', 'industry_name': '纺织服装、服饰业'}, 'jq_l2': {'industry_code': 'HY453', 'industry_name': '服装、服饰与奢侈品指数'}, 'jq_l1': {'industry_code': 'HY011', 'industry_name': '房地产指数'}}}\n"
     ]
    }
   ],
   "source": [
    "d = get_industry(security='600177.XSHG', date=\"2020-09-01\")\n",
    "print(d)"
   ]
  },
  {
   "cell_type": "code",
   "execution_count": 6,
   "metadata": {},
   "outputs": [
    {
     "name": "stdout",
     "output_type": "stream",
     "text": [
      "{'600177.XSHG': {'sw_l1': {'industry_code': '801130', 'industry_name': '纺织服装I'}, 'sw_l2': {'industry_code': '801132', 'industry_name': '服装家纺II'}, 'sw_l3': {'industry_code': '851322', 'industry_name': '男装III'}, 'zjw': {'industry_code': 'K70', 'industry_name': '房地产业'}, 'jq_l2': {'industry_code': 'HY509', 'industry_name': '房地产开发指数'}, 'jq_l1': {'industry_code': 'HY007', 'industry_name': '金融指数'}}}\n"
     ]
    }
   ],
   "source": [
    "d = get_industry(security='600177.XSHG', date=\"2016-09-01\")\n",
    "print(d)"
   ]
  },
  {
   "cell_type": "code",
   "execution_count": 7,
   "metadata": {},
   "outputs": [
    {
     "name": "stdout",
     "output_type": "stream",
     "text": [
      "         id    code period_start  period_end    pub_date  report_type_id  \\\n",
      "0  10700817  000001   2020-07-01  2020-09-30  2020-10-27          403003   \n",
      "1  10700808  000001   2020-07-01  2020-09-30  2020-10-27          403003   \n",
      "2  10700809  000001   2020-07-01  2020-09-30  2020-10-27          403003   \n",
      "3  10700810  000001   2020-07-01  2020-09-30  2020-10-27          403003   \n",
      "4  10700811  000001   2020-07-01  2020-09-30  2020-10-27          403003   \n",
      "5  10700812  000001   2020-07-01  2020-09-30  2020-10-27          403003   \n",
      "6  10700813  000001   2020-07-01  2020-09-30  2020-10-27          403003   \n",
      "7  10700814  000001   2020-07-01  2020-09-30  2020-10-27          403003   \n",
      "8  10700815  000001   2020-07-01  2020-09-30  2020-10-27          403003   \n",
      "9  10700816  000001   2020-07-01  2020-09-30  2020-10-27          403003   \n",
      "\n",
      "  report_type  rank  symbol  name      shares    market_cap  proportion  \n",
      "0        第三季度    10  002444  巨星科技   6576890.0  1.300909e+08        2.60  \n",
      "1        第三季度     1  002127  南极电商  22673610.0  3.913465e+08        7.84  \n",
      "2        第三季度     2  002013  中航机电  28100924.0  3.223176e+08        6.45  \n",
      "3        第三季度     3  601318  中国平安   3196526.0  2.437671e+08        4.88  \n",
      "4        第三季度     4  002271  东方雨虹   4069693.0  2.193565e+08        4.39  \n",
      "5        第三季度     5  300142  沃森生物   3751761.0  1.908896e+08        3.82  \n",
      "6        第三季度     6  600519  贵州茅台    111475.0  1.859960e+08        3.72  \n",
      "7        第三季度     7  000513  丽珠集团   3443820.0  1.694704e+08        3.39  \n",
      "8        第三季度     8  002475  立讯精密   2773748.0  1.584642e+08        3.17  \n",
      "9        第三季度     9  000858   五粮液    710101.0  1.569323e+08        3.14  \n"
     ]
    }
   ],
   "source": [
    "q=query(finance.FUND_PORTFOLIO_STOCK).filter(finance.FUND_PORTFOLIO_STOCK.code==\"000001\").order_by(finance.FUND_PORTFOLIO_STOCK.pub_date.desc()).limit(10)\n",
    "df=finance.run_query(q)\n",
    "print(df)"
   ]
  },
  {
   "cell_type": "code",
   "execution_count": 9,
   "metadata": {},
   "outputs": [
    {
     "ename": "AttributeError",
     "evalue": "'dict' object has no attribute 'head'",
     "output_type": "error",
     "traceback": [
      "\u001b[1;31m---------------------------------------------------------------------------\u001b[0m",
      "\u001b[1;31mAttributeError\u001b[0m                            Traceback (most recent call last)",
      "\u001b[1;32m<ipython-input-9-9c0816c9c6cd>\u001b[0m in \u001b[0;36m<module>\u001b[1;34m\u001b[0m\n\u001b[0;32m      2\u001b[0m \u001b[0mfactor_data\u001b[0m \u001b[1;33m=\u001b[0m \u001b[0mget_factor_values\u001b[0m\u001b[1;33m(\u001b[0m\u001b[0msecurities\u001b[0m\u001b[1;33m=\u001b[0m\u001b[1;33m[\u001b[0m\u001b[1;34m'000001.XSHE'\u001b[0m\u001b[1;33m]\u001b[0m\u001b[1;33m,\u001b[0m \u001b[0mfactors\u001b[0m\u001b[1;33m=\u001b[0m\u001b[1;33m[\u001b[0m\u001b[1;34m'Skewness60'\u001b[0m\u001b[1;33m,\u001b[0m\u001b[1;34m'DEGM'\u001b[0m\u001b[1;33m,\u001b[0m\u001b[1;34m'quick_ratio'\u001b[0m\u001b[1;33m]\u001b[0m\u001b[1;33m,\u001b[0m \u001b[0mstart_date\u001b[0m\u001b[1;33m=\u001b[0m\u001b[1;34m'2017-01-01'\u001b[0m\u001b[1;33m,\u001b[0m \u001b[0mend_date\u001b[0m\u001b[1;33m=\u001b[0m\u001b[1;34m'2017-03-04'\u001b[0m\u001b[1;33m)\u001b[0m\u001b[1;33m\u001b[0m\u001b[1;33m\u001b[0m\u001b[0m\n\u001b[0;32m      3\u001b[0m \u001b[1;31m# 查看因子值\u001b[0m\u001b[1;33m\u001b[0m\u001b[1;33m\u001b[0m\u001b[1;33m\u001b[0m\u001b[0m\n\u001b[1;32m----> 4\u001b[1;33m \u001b[0mfactor_data\u001b[0m\u001b[1;33m.\u001b[0m\u001b[0mhead\u001b[0m\u001b[1;33m(\u001b[0m\u001b[1;33m)\u001b[0m\u001b[1;33m\u001b[0m\u001b[1;33m\u001b[0m\u001b[0m\n\u001b[0m",
      "\u001b[1;31mAttributeError\u001b[0m: 'dict' object has no attribute 'head'"
     ]
    }
   ],
   "source": [
    "# 获取因子Skewness60(个股收益的60日偏度)从 2017-01-01 至 2017-03-04 的因子值\n",
    "factor_data = get_factor_values(securities=['000001.XSHE'], factors=['Skewness60','DEGM','quick_ratio'], start_date='2017-01-01', end_date='2017-03-04')\n",
    "# 查看因子值\n",
    "factor_data.head()"
   ]
  },
  {
   "cell_type": "code",
   "execution_count": 10,
   "metadata": {},
   "outputs": [
    {
     "data": {
      "text/html": [
       "<div>\n",
       "<style scoped>\n",
       "    .dataframe tbody tr th:only-of-type {\n",
       "        vertical-align: middle;\n",
       "    }\n",
       "\n",
       "    .dataframe tbody tr th {\n",
       "        vertical-align: top;\n",
       "    }\n",
       "\n",
       "    .dataframe thead th {\n",
       "        text-align: right;\n",
       "    }\n",
       "</style>\n",
       "<table border=\"1\" class=\"dataframe\">\n",
       "  <thead>\n",
       "    <tr style=\"text-align: right;\">\n",
       "      <th></th>\n",
       "      <th>factor</th>\n",
       "      <th>factor_intro</th>\n",
       "      <th>category</th>\n",
       "      <th>category_intro</th>\n",
       "    </tr>\n",
       "  </thead>\n",
       "  <tbody>\n",
       "    <tr>\n",
       "      <th>0</th>\n",
       "      <td>administration_expense_ttm</td>\n",
       "      <td>管理费用TTM</td>\n",
       "      <td>basics</td>\n",
       "      <td>基础科目及衍生类因子</td>\n",
       "    </tr>\n",
       "    <tr>\n",
       "      <th>1</th>\n",
       "      <td>asset_impairment_loss_ttm</td>\n",
       "      <td>资产减值损失TTM</td>\n",
       "      <td>basics</td>\n",
       "      <td>基础科目及衍生类因子</td>\n",
       "    </tr>\n",
       "    <tr>\n",
       "      <th>2</th>\n",
       "      <td>cash_flow_to_price_ratio</td>\n",
       "      <td>现金流市值比</td>\n",
       "      <td>basics</td>\n",
       "      <td>基础科目及衍生类因子</td>\n",
       "    </tr>\n",
       "    <tr>\n",
       "      <th>3</th>\n",
       "      <td>circulating_market_cap</td>\n",
       "      <td>流通市值</td>\n",
       "      <td>basics</td>\n",
       "      <td>基础科目及衍生类因子</td>\n",
       "    </tr>\n",
       "    <tr>\n",
       "      <th>4</th>\n",
       "      <td>EBIT</td>\n",
       "      <td>息税前利润</td>\n",
       "      <td>basics</td>\n",
       "      <td>基础科目及衍生类因子</td>\n",
       "    </tr>\n",
       "    <tr>\n",
       "      <th>...</th>\n",
       "      <td>...</td>\n",
       "      <td>...</td>\n",
       "      <td>...</td>\n",
       "      <td>...</td>\n",
       "    </tr>\n",
       "    <tr>\n",
       "      <th>254</th>\n",
       "      <td>MAC20</td>\n",
       "      <td>20日移动均线</td>\n",
       "      <td>technical</td>\n",
       "      <td>技术指标因子</td>\n",
       "    </tr>\n",
       "    <tr>\n",
       "      <th>255</th>\n",
       "      <td>MAC5</td>\n",
       "      <td>5日移动均线</td>\n",
       "      <td>technical</td>\n",
       "      <td>技术指标因子</td>\n",
       "    </tr>\n",
       "    <tr>\n",
       "      <th>256</th>\n",
       "      <td>MAC60</td>\n",
       "      <td>60日移动均线</td>\n",
       "      <td>technical</td>\n",
       "      <td>技术指标因子</td>\n",
       "    </tr>\n",
       "    <tr>\n",
       "      <th>257</th>\n",
       "      <td>MACDC</td>\n",
       "      <td>平滑异同移动平均线</td>\n",
       "      <td>technical</td>\n",
       "      <td>技术指标因子</td>\n",
       "    </tr>\n",
       "    <tr>\n",
       "      <th>258</th>\n",
       "      <td>MFI14</td>\n",
       "      <td>资金流量指标</td>\n",
       "      <td>technical</td>\n",
       "      <td>技术指标因子</td>\n",
       "    </tr>\n",
       "  </tbody>\n",
       "</table>\n",
       "<p>259 rows × 4 columns</p>\n",
       "</div>"
      ],
      "text/plain": [
       "                         factor factor_intro   category category_intro\n",
       "0    administration_expense_ttm      管理费用TTM     basics     基础科目及衍生类因子\n",
       "1     asset_impairment_loss_ttm    资产减值损失TTM     basics     基础科目及衍生类因子\n",
       "2      cash_flow_to_price_ratio       现金流市值比     basics     基础科目及衍生类因子\n",
       "3        circulating_market_cap         流通市值     basics     基础科目及衍生类因子\n",
       "4                          EBIT        息税前利润     basics     基础科目及衍生类因子\n",
       "..                          ...          ...        ...            ...\n",
       "254                       MAC20      20日移动均线  technical         技术指标因子\n",
       "255                        MAC5       5日移动均线  technical         技术指标因子\n",
       "256                       MAC60      60日移动均线  technical         技术指标因子\n",
       "257                       MACDC    平滑异同移动平均线  technical         技术指标因子\n",
       "258                       MFI14       资金流量指标  technical         技术指标因子\n",
       "\n",
       "[259 rows x 4 columns]"
      ]
     },
     "execution_count": 10,
     "metadata": {},
     "output_type": "execute_result"
    }
   ],
   "source": [
    "get_all_factors()"
   ]
  },
  {
   "cell_type": "code",
   "execution_count": 11,
   "metadata": {},
   "outputs": [
    {
     "data": {
      "text/html": [
       "<div>\n",
       "<style scoped>\n",
       "    .dataframe tbody tr th:only-of-type {\n",
       "        vertical-align: middle;\n",
       "    }\n",
       "\n",
       "    .dataframe tbody tr th {\n",
       "        vertical-align: top;\n",
       "    }\n",
       "\n",
       "    .dataframe thead th {\n",
       "        text-align: right;\n",
       "    }\n",
       "</style>\n",
       "<table border=\"1\" class=\"dataframe\">\n",
       "  <thead>\n",
       "    <tr style=\"text-align: right;\">\n",
       "      <th></th>\n",
       "      <th>name</th>\n",
       "      <th>start_date</th>\n",
       "    </tr>\n",
       "  </thead>\n",
       "  <tbody>\n",
       "    <tr>\n",
       "      <th>GN001</th>\n",
       "      <td>参股金融</td>\n",
       "      <td>2013-12-31</td>\n",
       "    </tr>\n",
       "    <tr>\n",
       "      <th>GN028</th>\n",
       "      <td>智能电网</td>\n",
       "      <td>2013-12-31</td>\n",
       "    </tr>\n",
       "    <tr>\n",
       "      <th>GN030</th>\n",
       "      <td>物联网</td>\n",
       "      <td>2013-12-31</td>\n",
       "    </tr>\n",
       "    <tr>\n",
       "      <th>GN031</th>\n",
       "      <td>重组</td>\n",
       "      <td>2013-12-31</td>\n",
       "    </tr>\n",
       "    <tr>\n",
       "      <th>GN032</th>\n",
       "      <td>迪士尼</td>\n",
       "      <td>2013-12-31</td>\n",
       "    </tr>\n",
       "    <tr>\n",
       "      <th>...</th>\n",
       "      <td>...</td>\n",
       "      <td>...</td>\n",
       "    </tr>\n",
       "    <tr>\n",
       "      <th>GN995</th>\n",
       "      <td>轨道交通</td>\n",
       "      <td>2017-10-30</td>\n",
       "    </tr>\n",
       "    <tr>\n",
       "      <th>GN996</th>\n",
       "      <td>钒钛</td>\n",
       "      <td>2017-10-30</td>\n",
       "    </tr>\n",
       "    <tr>\n",
       "      <th>GN997</th>\n",
       "      <td>液晶显示</td>\n",
       "      <td>2019-10-16</td>\n",
       "    </tr>\n",
       "    <tr>\n",
       "      <th>GN998</th>\n",
       "      <td>水泥</td>\n",
       "      <td>2020-03-03</td>\n",
       "    </tr>\n",
       "    <tr>\n",
       "      <th>GN999</th>\n",
       "      <td>染料涂料</td>\n",
       "      <td>2017-10-30</td>\n",
       "    </tr>\n",
       "  </tbody>\n",
       "</table>\n",
       "<p>832 rows × 2 columns</p>\n",
       "</div>"
      ],
      "text/plain": [
       "       name start_date\n",
       "GN001  参股金融 2013-12-31\n",
       "GN028  智能电网 2013-12-31\n",
       "GN030   物联网 2013-12-31\n",
       "GN031    重组 2013-12-31\n",
       "GN032   迪士尼 2013-12-31\n",
       "...     ...        ...\n",
       "GN995  轨道交通 2017-10-30\n",
       "GN996    钒钛 2017-10-30\n",
       "GN997  液晶显示 2019-10-16\n",
       "GN998    水泥 2020-03-03\n",
       "GN999  染料涂料 2017-10-30\n",
       "\n",
       "[832 rows x 2 columns]"
      ]
     },
     "execution_count": 11,
     "metadata": {},
     "output_type": "execute_result"
    }
   ],
   "source": [
    "get_concepts()"
   ]
  },
  {
   "cell_type": "code",
   "execution_count": 12,
   "metadata": {},
   "outputs": [
    {
     "data": {
      "text/plain": [
       "['000565.XSHE',\n",
       " '002010.XSHE',\n",
       " '002256.XSHE',\n",
       " '002361.XSHE',\n",
       " '002440.XSHE',\n",
       " '300067.XSHE',\n",
       " '300225.XSHE',\n",
       " '300522.XSHE',\n",
       " '300665.XSHE',\n",
       " '600352.XSHG',\n",
       " '600987.XSHG',\n",
       " '603188.XSHG',\n",
       " '603737.XSHG',\n",
       " '603980.XSHG']"
      ]
     },
     "execution_count": 12,
     "metadata": {},
     "output_type": "execute_result"
    }
   ],
   "source": [
    "get_concept_stocks('GN999', date='2019-10-10')"
   ]
  },
  {
   "cell_type": "code",
   "execution_count": 1,
   "metadata": {},
   "outputs": [],
   "source": [
    "import pymongo"
   ]
  },
  {
   "cell_type": "code",
   "execution_count": 2,
   "metadata": {},
   "outputs": [],
   "source": [
    "client = pymongo.MongoClient(\"mongodb://localhost:27017/\")"
   ]
  },
  {
   "cell_type": "code",
   "execution_count": 3,
   "metadata": {},
   "outputs": [],
   "source": [
    "db = client['jqdata']"
   ]
  },
  {
   "cell_type": "code",
   "execution_count": 4,
   "metadata": {},
   "outputs": [],
   "source": [
    "collection = db['industry']"
   ]
  },
  {
   "cell_type": "code",
   "execution_count": 5,
   "metadata": {},
   "outputs": [
    {
     "ename": "TypeError",
     "evalue": "document must be an instance of dict, bson.son.SON, bson.raw_bson.RawBSONDocument, or a type that inherits from collections.MutableMapping",
     "output_type": "error",
     "traceback": [
      "\u001b[1;31m---------------------------------------------------------------------------\u001b[0m",
      "\u001b[1;31mTypeError\u001b[0m                                 Traceback (most recent call last)",
      "\u001b[1;32m<ipython-input-5-d7460a93a070>\u001b[0m in \u001b[0;36m<module>\u001b[1;34m\u001b[0m\n\u001b[1;32m----> 1\u001b[1;33m collection.insert_many({'000001.XSHE': {'sw_l1': {'industry_code': '801780', 'industry_name': '银行I'}, 'sw_l2': {'industry_code': '801192', 'industry_name': '银行II'}, 'sw_l3': {'industry_code': '851911', 'industry_name': '银行III'}, 'zjw': {'industry_code': 'J66', 'industry_name': '货币金融服务'}, 'jq_l2': {'industry_code': 'HY493', 'industry_name': '多元化银行指数'}, 'jq_l1': {'industry_code': 'HY007', 'industry_name': '金融指数'}}, '000002.XSHE': {'sw_l1': {'industry_code': '801180', 'industry_name': '房地产I'}, 'sw_l2': {'industry_code': '801181', 'industry_name': '房地产开发II'}, 'sw_l3': {'industry_code': '851811', 'industry_name': '房地产开发III'}, 'zjw': {'industry_code': 'K70', 'industry_name': '房地产业'}, 'jq_l2': {'industry_code': 'HY509', 'industry_name': '房地产开发指数'}, 'jq_l1': {'industry_code': 'HY011', 'industry_name': '房地产指数'}}}\n\u001b[0m\u001b[0;32m      2\u001b[0m )\n",
      "\u001b[1;32mC:\\MyProgram\\anaconda\\envs\\jqdata\\lib\\site-packages\\pymongo\\collection.py\u001b[0m in \u001b[0;36minsert_many\u001b[1;34m(self, documents, ordered, bypass_document_validation, session)\u001b[0m\n\u001b[0;32m    758\u001b[0m         \u001b[0mwrite_concern\u001b[0m \u001b[1;33m=\u001b[0m \u001b[0mself\u001b[0m\u001b[1;33m.\u001b[0m\u001b[0m_write_concern_for\u001b[0m\u001b[1;33m(\u001b[0m\u001b[0msession\u001b[0m\u001b[1;33m)\u001b[0m\u001b[1;33m\u001b[0m\u001b[1;33m\u001b[0m\u001b[0m\n\u001b[0;32m    759\u001b[0m         \u001b[0mblk\u001b[0m \u001b[1;33m=\u001b[0m \u001b[0m_Bulk\u001b[0m\u001b[1;33m(\u001b[0m\u001b[0mself\u001b[0m\u001b[1;33m,\u001b[0m \u001b[0mordered\u001b[0m\u001b[1;33m,\u001b[0m \u001b[0mbypass_document_validation\u001b[0m\u001b[1;33m)\u001b[0m\u001b[1;33m\u001b[0m\u001b[1;33m\u001b[0m\u001b[0m\n\u001b[1;32m--> 760\u001b[1;33m         \u001b[0mblk\u001b[0m\u001b[1;33m.\u001b[0m\u001b[0mops\u001b[0m \u001b[1;33m=\u001b[0m \u001b[1;33m[\u001b[0m\u001b[0mdoc\u001b[0m \u001b[1;32mfor\u001b[0m \u001b[0mdoc\u001b[0m \u001b[1;32min\u001b[0m \u001b[0mgen\u001b[0m\u001b[1;33m(\u001b[0m\u001b[1;33m)\u001b[0m\u001b[1;33m]\u001b[0m\u001b[1;33m\u001b[0m\u001b[1;33m\u001b[0m\u001b[0m\n\u001b[0m\u001b[0;32m    761\u001b[0m         \u001b[0mblk\u001b[0m\u001b[1;33m.\u001b[0m\u001b[0mexecute\u001b[0m\u001b[1;33m(\u001b[0m\u001b[0mwrite_concern\u001b[0m\u001b[1;33m,\u001b[0m \u001b[0msession\u001b[0m\u001b[1;33m=\u001b[0m\u001b[0msession\u001b[0m\u001b[1;33m)\u001b[0m\u001b[1;33m\u001b[0m\u001b[1;33m\u001b[0m\u001b[0m\n\u001b[0;32m    762\u001b[0m         \u001b[1;32mreturn\u001b[0m \u001b[0mInsertManyResult\u001b[0m\u001b[1;33m(\u001b[0m\u001b[0minserted_ids\u001b[0m\u001b[1;33m,\u001b[0m \u001b[0mwrite_concern\u001b[0m\u001b[1;33m.\u001b[0m\u001b[0macknowledged\u001b[0m\u001b[1;33m)\u001b[0m\u001b[1;33m\u001b[0m\u001b[1;33m\u001b[0m\u001b[0m\n",
      "\u001b[1;32mC:\\MyProgram\\anaconda\\envs\\jqdata\\lib\\site-packages\\pymongo\\collection.py\u001b[0m in \u001b[0;36m<listcomp>\u001b[1;34m(.0)\u001b[0m\n\u001b[0;32m    758\u001b[0m         \u001b[0mwrite_concern\u001b[0m \u001b[1;33m=\u001b[0m \u001b[0mself\u001b[0m\u001b[1;33m.\u001b[0m\u001b[0m_write_concern_for\u001b[0m\u001b[1;33m(\u001b[0m\u001b[0msession\u001b[0m\u001b[1;33m)\u001b[0m\u001b[1;33m\u001b[0m\u001b[1;33m\u001b[0m\u001b[0m\n\u001b[0;32m    759\u001b[0m         \u001b[0mblk\u001b[0m \u001b[1;33m=\u001b[0m \u001b[0m_Bulk\u001b[0m\u001b[1;33m(\u001b[0m\u001b[0mself\u001b[0m\u001b[1;33m,\u001b[0m \u001b[0mordered\u001b[0m\u001b[1;33m,\u001b[0m \u001b[0mbypass_document_validation\u001b[0m\u001b[1;33m)\u001b[0m\u001b[1;33m\u001b[0m\u001b[1;33m\u001b[0m\u001b[0m\n\u001b[1;32m--> 760\u001b[1;33m         \u001b[0mblk\u001b[0m\u001b[1;33m.\u001b[0m\u001b[0mops\u001b[0m \u001b[1;33m=\u001b[0m \u001b[1;33m[\u001b[0m\u001b[0mdoc\u001b[0m \u001b[1;32mfor\u001b[0m \u001b[0mdoc\u001b[0m \u001b[1;32min\u001b[0m \u001b[0mgen\u001b[0m\u001b[1;33m(\u001b[0m\u001b[1;33m)\u001b[0m\u001b[1;33m]\u001b[0m\u001b[1;33m\u001b[0m\u001b[1;33m\u001b[0m\u001b[0m\n\u001b[0m\u001b[0;32m    761\u001b[0m         \u001b[0mblk\u001b[0m\u001b[1;33m.\u001b[0m\u001b[0mexecute\u001b[0m\u001b[1;33m(\u001b[0m\u001b[0mwrite_concern\u001b[0m\u001b[1;33m,\u001b[0m \u001b[0msession\u001b[0m\u001b[1;33m=\u001b[0m\u001b[0msession\u001b[0m\u001b[1;33m)\u001b[0m\u001b[1;33m\u001b[0m\u001b[1;33m\u001b[0m\u001b[0m\n\u001b[0;32m    762\u001b[0m         \u001b[1;32mreturn\u001b[0m \u001b[0mInsertManyResult\u001b[0m\u001b[1;33m(\u001b[0m\u001b[0minserted_ids\u001b[0m\u001b[1;33m,\u001b[0m \u001b[0mwrite_concern\u001b[0m\u001b[1;33m.\u001b[0m\u001b[0macknowledged\u001b[0m\u001b[1;33m)\u001b[0m\u001b[1;33m\u001b[0m\u001b[1;33m\u001b[0m\u001b[0m\n",
      "\u001b[1;32mC:\\MyProgram\\anaconda\\envs\\jqdata\\lib\\site-packages\\pymongo\\collection.py\u001b[0m in \u001b[0;36mgen\u001b[1;34m()\u001b[0m\n\u001b[0;32m    749\u001b[0m             \u001b[1;34m\"\"\"A generator that validates documents and handles _ids.\"\"\"\u001b[0m\u001b[1;33m\u001b[0m\u001b[1;33m\u001b[0m\u001b[0m\n\u001b[0;32m    750\u001b[0m             \u001b[1;32mfor\u001b[0m \u001b[0mdocument\u001b[0m \u001b[1;32min\u001b[0m \u001b[0mdocuments\u001b[0m\u001b[1;33m:\u001b[0m\u001b[1;33m\u001b[0m\u001b[1;33m\u001b[0m\u001b[0m\n\u001b[1;32m--> 751\u001b[1;33m                 \u001b[0mcommon\u001b[0m\u001b[1;33m.\u001b[0m\u001b[0mvalidate_is_document_type\u001b[0m\u001b[1;33m(\u001b[0m\u001b[1;34m\"document\"\u001b[0m\u001b[1;33m,\u001b[0m \u001b[0mdocument\u001b[0m\u001b[1;33m)\u001b[0m\u001b[1;33m\u001b[0m\u001b[1;33m\u001b[0m\u001b[0m\n\u001b[0m\u001b[0;32m    752\u001b[0m                 \u001b[1;32mif\u001b[0m \u001b[1;32mnot\u001b[0m \u001b[0misinstance\u001b[0m\u001b[1;33m(\u001b[0m\u001b[0mdocument\u001b[0m\u001b[1;33m,\u001b[0m \u001b[0mRawBSONDocument\u001b[0m\u001b[1;33m)\u001b[0m\u001b[1;33m:\u001b[0m\u001b[1;33m\u001b[0m\u001b[1;33m\u001b[0m\u001b[0m\n\u001b[0;32m    753\u001b[0m                     \u001b[1;32mif\u001b[0m \u001b[1;34m\"_id\"\u001b[0m \u001b[1;32mnot\u001b[0m \u001b[1;32min\u001b[0m \u001b[0mdocument\u001b[0m\u001b[1;33m:\u001b[0m\u001b[1;33m\u001b[0m\u001b[1;33m\u001b[0m\u001b[0m\n",
      "\u001b[1;32mC:\\MyProgram\\anaconda\\envs\\jqdata\\lib\\site-packages\\pymongo\\common.py\u001b[0m in \u001b[0;36mvalidate_is_document_type\u001b[1;34m(option, value)\u001b[0m\n\u001b[0;32m    503\u001b[0m                         \u001b[1;34m\"bson.raw_bson.RawBSONDocument, or \"\u001b[0m\u001b[1;33m\u001b[0m\u001b[1;33m\u001b[0m\u001b[0m\n\u001b[0;32m    504\u001b[0m                         \u001b[1;34m\"a type that inherits from \"\u001b[0m\u001b[1;33m\u001b[0m\u001b[1;33m\u001b[0m\u001b[0m\n\u001b[1;32m--> 505\u001b[1;33m                         \"collections.MutableMapping\" % (option,))\n\u001b[0m\u001b[0;32m    506\u001b[0m \u001b[1;33m\u001b[0m\u001b[0m\n\u001b[0;32m    507\u001b[0m \u001b[1;33m\u001b[0m\u001b[0m\n",
      "\u001b[1;31mTypeError\u001b[0m: document must be an instance of dict, bson.son.SON, bson.raw_bson.RawBSONDocument, or a type that inherits from collections.MutableMapping"
     ]
    }
   ],
   "source": [
    "collection.insert_many({'000001.XSHE': {'sw_l1': {'industry_code': '801780', 'industry_name': '银行I'}, 'sw_l2': {'industry_code': '801192', 'industry_name': '银行II'}, 'sw_l3': {'industry_code': '851911', 'industry_name': '银行III'}, 'zjw': {'industry_code': 'J66', 'industry_name': '货币金融服务'}, 'jq_l2': {'industry_code': 'HY493', 'industry_name': '多元化银行指数'}, 'jq_l1': {'industry_code': 'HY007', 'industry_name': '金融指数'}}, '000002.XSHE': {'sw_l1': {'industry_code': '801180', 'industry_name': '房地产I'}, 'sw_l2': {'industry_code': '801181', 'industry_name': '房地产开发II'}, 'sw_l3': {'industry_code': '851811', 'industry_name': '房地产开发III'}, 'zjw': {'industry_code': 'K70', 'industry_name': '房地产业'}, 'jq_l2': {'industry_code': 'HY509', 'industry_name': '房地产开发指数'}, 'jq_l1': {'industry_code': 'HY011', 'industry_name': '房地产指数'}}}\n",
    ")"
   ]
  },
  {
   "cell_type": "code",
   "execution_count": 8,
   "metadata": {},
   "outputs": [
    {
     "data": {
      "text/html": [
       "<div>\n",
       "<style scoped>\n",
       "    .dataframe tbody tr th:only-of-type {\n",
       "        vertical-align: middle;\n",
       "    }\n",
       "\n",
       "    .dataframe tbody tr th {\n",
       "        vertical-align: top;\n",
       "    }\n",
       "\n",
       "    .dataframe thead th {\n",
       "        text-align: right;\n",
       "    }\n",
       "</style>\n",
       "<table border=\"1\" class=\"dataframe\">\n",
       "  <thead>\n",
       "    <tr style=\"text-align: right;\">\n",
       "      <th></th>\n",
       "      <th>name</th>\n",
       "      <th>start_date</th>\n",
       "    </tr>\n",
       "  </thead>\n",
       "  <tbody>\n",
       "    <tr>\n",
       "      <th>851731</th>\n",
       "      <td>高速公路III</td>\n",
       "      <td>2005-05-27</td>\n",
       "    </tr>\n",
       "    <tr>\n",
       "      <th>850942</th>\n",
       "      <td>其他交运设备服务III</td>\n",
       "      <td>2011-09-23</td>\n",
       "    </tr>\n",
       "    <tr>\n",
       "      <th>850231</th>\n",
       "      <td>其他采掘III</td>\n",
       "      <td>2005-05-27</td>\n",
       "    </tr>\n",
       "    <tr>\n",
       "      <th>850941</th>\n",
       "      <td>汽车服务III</td>\n",
       "      <td>2005-05-27</td>\n",
       "    </tr>\n",
       "    <tr>\n",
       "      <th>851631</th>\n",
       "      <td>燃气III</td>\n",
       "      <td>2005-05-27</td>\n",
       "    </tr>\n",
       "    <tr>\n",
       "      <th>...</th>\n",
       "      <td>...</td>\n",
       "      <td>...</td>\n",
       "    </tr>\n",
       "    <tr>\n",
       "      <th>850833</th>\n",
       "      <td>光学元件III</td>\n",
       "      <td>2011-09-23</td>\n",
       "    </tr>\n",
       "    <tr>\n",
       "      <th>850831</th>\n",
       "      <td>显示器件III</td>\n",
       "      <td>2005-05-27</td>\n",
       "    </tr>\n",
       "    <tr>\n",
       "      <th>851221</th>\n",
       "      <td>调味发酵品III</td>\n",
       "      <td>2005-05-27</td>\n",
       "    </tr>\n",
       "    <tr>\n",
       "      <th>851222</th>\n",
       "      <td>乳品III</td>\n",
       "      <td>2005-05-27</td>\n",
       "    </tr>\n",
       "    <tr>\n",
       "      <th>857221</th>\n",
       "      <td>装修装饰III</td>\n",
       "      <td>2014-02-21</td>\n",
       "    </tr>\n",
       "  </tbody>\n",
       "</table>\n",
       "<p>268 rows × 2 columns</p>\n",
       "</div>"
      ],
      "text/plain": [
       "               name start_date\n",
       "851731      高速公路III 2005-05-27\n",
       "850942  其他交运设备服务III 2011-09-23\n",
       "850231      其他采掘III 2005-05-27\n",
       "850941      汽车服务III 2005-05-27\n",
       "851631        燃气III 2005-05-27\n",
       "...             ...        ...\n",
       "850833      光学元件III 2011-09-23\n",
       "850831      显示器件III 2005-05-27\n",
       "851221     调味发酵品III 2005-05-27\n",
       "851222        乳品III 2005-05-27\n",
       "857221      装修装饰III 2014-02-21\n",
       "\n",
       "[268 rows x 2 columns]"
      ]
     },
     "execution_count": 8,
     "metadata": {},
     "output_type": "execute_result"
    }
   ],
   "source": [
    "sw_l1 = get_industries(name='sw_l1', date=None)\n",
    "sw_l2 = get_industries(name='sw_l2', date=None)\n",
    "sw_l3 = get_industries(name='sw_l3', date=None)\n",
    "sw_l3"
   ]
  },
  {
   "cell_type": "code",
   "execution_count": 10,
   "metadata": {},
   "outputs": [
    {
     "data": {
      "text/html": [
       "<div>\n",
       "<style scoped>\n",
       "    .dataframe tbody tr th:only-of-type {\n",
       "        vertical-align: middle;\n",
       "    }\n",
       "\n",
       "    .dataframe tbody tr th {\n",
       "        vertical-align: top;\n",
       "    }\n",
       "\n",
       "    .dataframe thead th {\n",
       "        text-align: right;\n",
       "    }\n",
       "</style>\n",
       "<table border=\"1\" class=\"dataframe\">\n",
       "  <thead>\n",
       "    <tr style=\"text-align: right;\">\n",
       "      <th></th>\n",
       "      <th>name</th>\n",
       "      <th>start_date</th>\n",
       "    </tr>\n",
       "  </thead>\n",
       "  <tbody>\n",
       "    <tr>\n",
       "      <th>801744</th>\n",
       "      <td>船舶制造II</td>\n",
       "      <td>2014-02-21</td>\n",
       "    </tr>\n",
       "    <tr>\n",
       "      <th>801742</th>\n",
       "      <td>航空装备II</td>\n",
       "      <td>2014-02-21</td>\n",
       "    </tr>\n",
       "    <tr>\n",
       "      <th>801743</th>\n",
       "      <td>地面兵装II</td>\n",
       "      <td>2014-02-21</td>\n",
       "    </tr>\n",
       "    <tr>\n",
       "      <th>801741</th>\n",
       "      <td>航天装备II</td>\n",
       "      <td>2014-02-21</td>\n",
       "    </tr>\n",
       "    <tr>\n",
       "      <th>801024</th>\n",
       "      <td>采掘服务II</td>\n",
       "      <td>2011-09-23</td>\n",
       "    </tr>\n",
       "    <tr>\n",
       "      <th>...</th>\n",
       "      <td>...</td>\n",
       "      <td>...</td>\n",
       "    </tr>\n",
       "    <tr>\n",
       "      <th>801153</th>\n",
       "      <td>医疗器械II</td>\n",
       "      <td>2005-05-27</td>\n",
       "    </tr>\n",
       "    <tr>\n",
       "      <th>801152</th>\n",
       "      <td>生物制品II</td>\n",
       "      <td>2005-05-27</td>\n",
       "    </tr>\n",
       "    <tr>\n",
       "      <th>801151</th>\n",
       "      <td>化学制药II</td>\n",
       "      <td>2005-05-27</td>\n",
       "    </tr>\n",
       "    <tr>\n",
       "      <th>801732</th>\n",
       "      <td>电气自动化设备II</td>\n",
       "      <td>2014-02-21</td>\n",
       "    </tr>\n",
       "    <tr>\n",
       "      <th>801734</th>\n",
       "      <td>高低压设备II</td>\n",
       "      <td>2014-02-21</td>\n",
       "    </tr>\n",
       "  </tbody>\n",
       "</table>\n",
       "<p>116 rows × 2 columns</p>\n",
       "</div>"
      ],
      "text/plain": [
       "             name start_date\n",
       "801744     船舶制造II 2014-02-21\n",
       "801742     航空装备II 2014-02-21\n",
       "801743     地面兵装II 2014-02-21\n",
       "801741     航天装备II 2014-02-21\n",
       "801024     采掘服务II 2011-09-23\n",
       "...           ...        ...\n",
       "801153     医疗器械II 2005-05-27\n",
       "801152     生物制品II 2005-05-27\n",
       "801151     化学制药II 2005-05-27\n",
       "801732  电气自动化设备II 2014-02-21\n",
       "801734    高低压设备II 2014-02-21\n",
       "\n",
       "[116 rows x 2 columns]"
      ]
     },
     "execution_count": 10,
     "metadata": {},
     "output_type": "execute_result"
    }
   ],
   "source": [
    "sw_l2"
   ]
  },
  {
   "cell_type": "code",
   "execution_count": 11,
   "metadata": {},
   "outputs": [],
   "source": [
    "dates= get_trade_days(start_date='2004-02-10')"
   ]
  },
  {
   "cell_type": "code",
   "execution_count": 12,
   "metadata": {},
   "outputs": [
    {
     "data": {
      "text/plain": [
       "array([datetime.date(2005, 1, 4), datetime.date(2005, 1, 5),\n",
       "       datetime.date(2005, 1, 6), ..., datetime.date(2021, 1, 4),\n",
       "       datetime.date(2021, 1, 5), datetime.date(2021, 1, 6)], dtype=object)"
      ]
     },
     "execution_count": 12,
     "metadata": {},
     "output_type": "execute_result"
    }
   ],
   "source": [
    "dates"
   ]
  },
  {
   "cell_type": "code",
   "execution_count": 13,
   "metadata": {},
   "outputs": [
    {
     "data": {
      "text/plain": [
       "['002608.XSHE',\n",
       " '300008.XSHE',\n",
       " '300123.XSHE',\n",
       " '600072.XSHG',\n",
       " '600150.XSHG',\n",
       " '600685.XSHG',\n",
       " '601890.XSHG',\n",
       " '601989.XSHG']"
      ]
     },
     "execution_count": 13,
     "metadata": {},
     "output_type": "execute_result"
    }
   ],
   "source": [
    "stocks = get_industry_stocks('801744', date='2015-01-05')\n",
    "stocks"
   ]
  },
  {
   "cell_type": "code",
   "execution_count": 18,
   "metadata": {},
   "outputs": [
    {
     "name": "stdout",
     "output_type": "stream",
     "text": [
      "801740, 国防军工I, 2014-02-21T00:00:00.000000000\n",
      "801020, 采掘I, 2004-02-10T00:00:00.000000000\n",
      "801110, 家用电器I, 2004-02-10T00:00:00.000000000\n",
      "801160, 公用事业I, 2004-02-10T00:00:00.000000000\n",
      "801060, 建筑建材I, 2004-02-10T00:00:00.000000000\n",
      "801770, 通信I, 2014-02-21T00:00:00.000000000\n",
      "801010, 农林牧渔I, 2004-02-09T00:00:00.000000000\n",
      "801120, 食品饮料I, 2004-02-10T00:00:00.000000000\n",
      "801750, 计算机I, 2014-02-21T00:00:00.000000000\n",
      "801050, 有色金属I, 2004-02-10T00:00:00.000000000\n",
      "801890, 机械设备I, 2014-02-21T00:00:00.000000000\n",
      "801170, 交通运输I, 2004-02-10T00:00:00.000000000\n",
      "801090, 交运设备I, 2004-02-10T00:00:00.000000000\n",
      "801710, 建筑材料I, 2014-02-21T00:00:00.000000000\n",
      "801780, 银行I, 2014-02-21T00:00:00.000000000\n",
      "801040, 钢铁I, 2004-02-10T00:00:00.000000000\n",
      "801130, 纺织服装I, 2004-02-10T00:00:00.000000000\n",
      "801880, 汽车I, 2014-02-21T00:00:00.000000000\n",
      "801180, 房地产I, 2004-02-10T00:00:00.000000000\n",
      "801230, 综合I, 2004-02-10T00:00:00.000000000\n",
      "801220, 信息服务I, 2004-02-10T00:00:00.000000000\n",
      "801760, 传媒I, 2014-02-21T00:00:00.000000000\n",
      "801200, 商业贸易I, 2004-02-10T00:00:00.000000000\n",
      "801140, 轻工制造I, 2004-02-10T00:00:00.000000000\n",
      "801720, 建筑装饰I, 2014-02-21T00:00:00.000000000\n",
      "801080, 电子I, 2004-02-10T00:00:00.000000000\n",
      "801790, 非银金融I, 2014-02-21T00:00:00.000000000\n",
      "801030, 化工I, 2004-02-10T00:00:00.000000000\n",
      "801100, 信息设备I, 2004-02-10T00:00:00.000000000\n",
      "801190, 金融服务I, 2004-02-10T00:00:00.000000000\n",
      "801210, 休闲服务I, 2004-02-10T00:00:00.000000000\n",
      "801730, 电气设备I, 2014-02-21T00:00:00.000000000\n",
      "801070, 机械设备I, 2004-02-10T00:00:00.000000000\n",
      "801150, 医药生物I, 2004-02-10T00:00:00.000000000\n"
     ]
    }
   ],
   "source": [
    "for code, name, time in sw_l1.to_records():\n",
    "    print('{}, {}, {}'.format(code, name, time))\n",
    "    \n"
   ]
  },
  {
   "cell_type": "code",
   "execution_count": 21,
   "metadata": {},
   "outputs": [
    {
     "data": {
      "text/plain": [
       "[]"
      ]
     },
     "execution_count": 21,
     "metadata": {},
     "output_type": "execute_result"
    }
   ],
   "source": [
    "stocks = get_industry_stocks('801744', date='2001-01-05')\n",
    "stocks"
   ]
  },
  {
   "cell_type": "code",
   "execution_count": 22,
   "metadata": {},
   "outputs": [],
   "source": [
    "import time"
   ]
  },
  {
   "cell_type": "code",
   "execution_count": 23,
   "metadata": {},
   "outputs": [
    {
     "data": {
      "text/plain": [
       "1578153600.0"
      ]
     },
     "execution_count": 23,
     "metadata": {},
     "output_type": "execute_result"
    }
   ],
   "source": [
    "time.mktime(time.strptime('2020-01-05', '%Y-%m-%d'))"
   ]
  },
  {
   "cell_type": "code",
   "execution_count": 24,
   "metadata": {},
   "outputs": [],
   "source": [
    "time.mktime?"
   ]
  },
  {
   "cell_type": "code",
   "execution_count": 1,
   "metadata": {},
   "outputs": [],
   "source": [
    "import datetime as dt\n",
    "import pandas as pd"
   ]
  },
  {
   "cell_type": "code",
   "execution_count": 2,
   "metadata": {},
   "outputs": [],
   "source": [
    "end = pd.Timestamp('2020-03-01 12:00:00')\n",
    "start = pd.Timestamp('2020-02-01 12:00:00')"
   ]
  },
  {
   "cell_type": "code",
   "execution_count": 4,
   "metadata": {},
   "outputs": [
    {
     "data": {
      "text/plain": [
       "29"
      ]
     },
     "execution_count": 4,
     "metadata": {},
     "output_type": "execute_result"
    }
   ],
   "source": [
    "(end - start).days"
   ]
  },
  {
   "cell_type": "code",
   "execution_count": 6,
   "metadata": {},
   "outputs": [
    {
     "data": {
      "text/plain": [
       "Timestamp('2021-03-03 00:00:00')"
      ]
     },
     "execution_count": 6,
     "metadata": {},
     "output_type": "execute_result"
    }
   ],
   "source": [
    "pd.Timestamp(dt.date.today())"
   ]
  },
  {
   "cell_type": "code",
   "execution_count": null,
   "metadata": {},
   "outputs": [],
   "source": []
  }
 ],
 "metadata": {
  "kernelspec": {
   "display_name": "Python 3",
   "language": "python",
   "name": "python3"
  },
  "language_info": {
   "codemirror_mode": {
    "name": "ipython",
    "version": 3
   },
   "file_extension": ".py",
   "mimetype": "text/x-python",
   "name": "python",
   "nbconvert_exporter": "python",
   "pygments_lexer": "ipython3",
   "version": "3.7.10"
  }
 },
 "nbformat": 4,
 "nbformat_minor": 4
}
