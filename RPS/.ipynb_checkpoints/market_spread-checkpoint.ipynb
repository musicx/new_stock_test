{
 "cells": [
  {
   "cell_type": "code",
   "execution_count": 1,
   "metadata": {},
   "outputs": [],
   "source": [
    "import pandas as pd\n",
    "import QUANTAXIS as qtx\n",
    "from datetime import datetime, timedelta"
   ]
  },
  {
   "cell_type": "code",
   "execution_count": 2,
   "metadata": {},
   "outputs": [],
   "source": [
    "raw = pd.read_csv(\"d:\\\\Software\\\\SW20201129.csv\")"
   ]
  },
  {
   "cell_type": "code",
   "execution_count": null,
   "metadata": {},
   "outputs": [],
   "source": [
    "raw = pd.read_csv(\"c:\\\\Users\\\\mUSicX\\\\Documents\\\\股票相关\\\\20200922SW.csv\")"
   ]
  },
  {
   "cell_type": "code",
   "execution_count": 3,
   "metadata": {},
   "outputs": [
    {
     "data": {
      "text/html": [
       "<div>\n",
       "<style scoped>\n",
       "    .dataframe tbody tr th:only-of-type {\n",
       "        vertical-align: middle;\n",
       "    }\n",
       "\n",
       "    .dataframe tbody tr th {\n",
       "        vertical-align: top;\n",
       "    }\n",
       "\n",
       "    .dataframe thead th {\n",
       "        text-align: right;\n",
       "    }\n",
       "</style>\n",
       "<table border=\"1\" class=\"dataframe\">\n",
       "  <thead>\n",
       "    <tr style=\"text-align: right;\">\n",
       "      <th></th>\n",
       "      <th>code</th>\n",
       "      <th>name</th>\n",
       "      <th>ind</th>\n",
       "      <th>c</th>\n",
       "      <th>mkt</th>\n",
       "      <th>ind_cat1</th>\n",
       "      <th>ind_cat2</th>\n",
       "    </tr>\n",
       "  </thead>\n",
       "  <tbody>\n",
       "    <tr>\n",
       "      <th>0</th>\n",
       "      <td>000009.SZ</td>\n",
       "      <td>中国宝安</td>\n",
       "      <td>综合--综合Ⅱ--综合Ⅲ</td>\n",
       "      <td>000009</td>\n",
       "      <td>0</td>\n",
       "      <td>综合</td>\n",
       "      <td>综合-综合Ⅱ</td>\n",
       "    </tr>\n",
       "    <tr>\n",
       "      <th>1</th>\n",
       "      <td>000409.SZ</td>\n",
       "      <td>ST地矿</td>\n",
       "      <td>综合--综合Ⅱ--综合Ⅲ</td>\n",
       "      <td>000409</td>\n",
       "      <td>0</td>\n",
       "      <td>综合</td>\n",
       "      <td>综合-综合Ⅱ</td>\n",
       "    </tr>\n",
       "    <tr>\n",
       "      <th>2</th>\n",
       "      <td>000632.SZ</td>\n",
       "      <td>三木集团</td>\n",
       "      <td>综合--综合Ⅱ--综合Ⅲ</td>\n",
       "      <td>000632</td>\n",
       "      <td>0</td>\n",
       "      <td>综合</td>\n",
       "      <td>综合-综合Ⅱ</td>\n",
       "    </tr>\n",
       "    <tr>\n",
       "      <th>3</th>\n",
       "      <td>000638.SZ</td>\n",
       "      <td>万方发展</td>\n",
       "      <td>综合--综合Ⅱ--综合Ⅲ</td>\n",
       "      <td>000638</td>\n",
       "      <td>0</td>\n",
       "      <td>综合</td>\n",
       "      <td>综合-综合Ⅱ</td>\n",
       "    </tr>\n",
       "    <tr>\n",
       "      <th>4</th>\n",
       "      <td>000652.SZ</td>\n",
       "      <td>泰达股份</td>\n",
       "      <td>综合--综合Ⅱ--综合Ⅲ</td>\n",
       "      <td>000652</td>\n",
       "      <td>0</td>\n",
       "      <td>综合</td>\n",
       "      <td>综合-综合Ⅱ</td>\n",
       "    </tr>\n",
       "    <tr>\n",
       "      <th>5</th>\n",
       "      <td>000839.SZ</td>\n",
       "      <td>中信国安</td>\n",
       "      <td>综合--综合Ⅱ--综合Ⅲ</td>\n",
       "      <td>000839</td>\n",
       "      <td>0</td>\n",
       "      <td>综合</td>\n",
       "      <td>综合-综合Ⅱ</td>\n",
       "    </tr>\n",
       "    <tr>\n",
       "      <th>6</th>\n",
       "      <td>002967.SZ</td>\n",
       "      <td>广电计量</td>\n",
       "      <td>综合--综合Ⅱ--综合Ⅲ</td>\n",
       "      <td>002967</td>\n",
       "      <td>0</td>\n",
       "      <td>综合</td>\n",
       "      <td>综合-综合Ⅱ</td>\n",
       "    </tr>\n",
       "    <tr>\n",
       "      <th>7</th>\n",
       "      <td>003008.SZ</td>\n",
       "      <td>开普检测</td>\n",
       "      <td>综合--综合Ⅱ--综合Ⅲ</td>\n",
       "      <td>003008</td>\n",
       "      <td>0</td>\n",
       "      <td>综合</td>\n",
       "      <td>综合-综合Ⅱ</td>\n",
       "    </tr>\n",
       "    <tr>\n",
       "      <th>8</th>\n",
       "      <td>300012.SZ</td>\n",
       "      <td>华测检测</td>\n",
       "      <td>综合--综合Ⅱ--综合Ⅲ</td>\n",
       "      <td>300012</td>\n",
       "      <td>0</td>\n",
       "      <td>综合</td>\n",
       "      <td>综合-综合Ⅱ</td>\n",
       "    </tr>\n",
       "    <tr>\n",
       "      <th>9</th>\n",
       "      <td>300688.SZ</td>\n",
       "      <td>创业黑马</td>\n",
       "      <td>综合--综合Ⅱ--综合Ⅲ</td>\n",
       "      <td>300688</td>\n",
       "      <td>0</td>\n",
       "      <td>综合</td>\n",
       "      <td>综合-综合Ⅱ</td>\n",
       "    </tr>\n",
       "  </tbody>\n",
       "</table>\n",
       "</div>"
      ],
      "text/plain": [
       "        code  name           ind       c  mkt ind_cat1 ind_cat2\n",
       "0  000009.SZ  中国宝安  综合--综合Ⅱ--综合Ⅲ  000009    0       综合   综合-综合Ⅱ\n",
       "1  000409.SZ  ST地矿  综合--综合Ⅱ--综合Ⅲ  000409    0       综合   综合-综合Ⅱ\n",
       "2  000632.SZ  三木集团  综合--综合Ⅱ--综合Ⅲ  000632    0       综合   综合-综合Ⅱ\n",
       "3  000638.SZ  万方发展  综合--综合Ⅱ--综合Ⅲ  000638    0       综合   综合-综合Ⅱ\n",
       "4  000652.SZ  泰达股份  综合--综合Ⅱ--综合Ⅲ  000652    0       综合   综合-综合Ⅱ\n",
       "5  000839.SZ  中信国安  综合--综合Ⅱ--综合Ⅲ  000839    0       综合   综合-综合Ⅱ\n",
       "6  002967.SZ  广电计量  综合--综合Ⅱ--综合Ⅲ  002967    0       综合   综合-综合Ⅱ\n",
       "7  003008.SZ  开普检测  综合--综合Ⅱ--综合Ⅲ  003008    0       综合   综合-综合Ⅱ\n",
       "8  300012.SZ  华测检测  综合--综合Ⅱ--综合Ⅲ  300012    0       综合   综合-综合Ⅱ\n",
       "9  300688.SZ  创业黑马  综合--综合Ⅱ--综合Ⅲ  300688    0       综合   综合-综合Ⅱ"
      ]
     },
     "execution_count": 3,
     "metadata": {},
     "output_type": "execute_result"
    }
   ],
   "source": [
    "\n",
    "raw['c'] = raw.code.apply(lambda x: x[:6])\n",
    "raw['mkt'] = raw.code.apply(lambda x: 0 if x.endswith('SZ') else 1)\n",
    "raw['ind_cat1'] = raw.ind.apply(lambda x: x.split('--')[0])\n",
    "raw['ind_cat2'] = raw.ind.apply(lambda x: '-'.join(x.split('--')[:2]))\n",
    "#raw['ind_cat3'] = raw.ind.apply(lambda x: x.split('--')[2].replace('Ⅲ', ''))\n",
    "\n",
    "#raw['ind_cat'] = raw.apply(lambda x: x.ind_cat1+'-'+x.ind_cat2, axis=1)\n",
    "raw[:10]"
   ]
  },
  {
   "cell_type": "code",
   "execution_count": 8,
   "metadata": {},
   "outputs": [
    {
     "name": "stderr",
     "output_type": "stream",
     "text": [
      "QUANTAXIS>> 'code'\n"
     ]
    }
   ],
   "source": [
    "code_list = qtx.QA_fetch_stock_list()\n",
    "finfo =  qtx.QA_fetch_stock_info(list(code_list.code))\n",
    "finfo"
   ]
  },
  {
   "cell_type": "code",
   "execution_count": 4,
   "metadata": {},
   "outputs": [
    {
     "name": "stderr",
     "output_type": "stream",
     "text": [
      "QUANTAXIS>> 'code'\n"
     ]
    },
    {
     "ename": "AttributeError",
     "evalue": "'NoneType' object has no attribute 'loc'",
     "output_type": "error",
     "traceback": [
      "\u001b[1;31m---------------------------------------------------------------------------\u001b[0m",
      "\u001b[1;31mAttributeError\u001b[0m                            Traceback (most recent call last)",
      "\u001b[1;32m<ipython-input-4-c43f5acabb39>\u001b[0m in \u001b[0;36m<module>\u001b[1;34m\u001b[0m\n\u001b[0;32m      4\u001b[0m                                   \u001b[0mstart\u001b[0m\u001b[1;33m=\u001b[0m\u001b[1;33m(\u001b[0m\u001b[0mdatetime\u001b[0m\u001b[1;33m.\u001b[0m\u001b[0mtoday\u001b[0m\u001b[1;33m(\u001b[0m\u001b[1;33m)\u001b[0m\u001b[1;33m-\u001b[0m\u001b[0mtimedelta\u001b[0m\u001b[1;33m(\u001b[0m\u001b[0mdays\u001b[0m\u001b[1;33m=\u001b[0m\u001b[1;36m720\u001b[0m\u001b[1;33m)\u001b[0m\u001b[1;33m)\u001b[0m\u001b[1;33m.\u001b[0m\u001b[0mstrftime\u001b[0m\u001b[1;33m(\u001b[0m\u001b[1;34m'%Y-%m-%d'\u001b[0m\u001b[1;33m)\u001b[0m\u001b[1;33m,\u001b[0m\u001b[1;33m\u001b[0m\u001b[1;33m\u001b[0m\u001b[0m\n\u001b[0;32m      5\u001b[0m                                   end=datetime.today().strftime('%Y-%m-%d')).to_qfq()\n\u001b[1;32m----> 6\u001b[1;33m \u001b[0mfbase\u001b[0m \u001b[1;33m=\u001b[0m \u001b[0mfcnd\u001b[0m\u001b[1;33m.\u001b[0m\u001b[0mdata\u001b[0m\u001b[1;33m.\u001b[0m\u001b[0mjoin\u001b[0m\u001b[1;33m(\u001b[0m\u001b[0mfinfo\u001b[0m\u001b[1;33m.\u001b[0m\u001b[0mloc\u001b[0m\u001b[1;33m[\u001b[0m\u001b[0mfinfo\u001b[0m\u001b[1;33m.\u001b[0m\u001b[0mipo_date\u001b[0m \u001b[1;33m!=\u001b[0m \u001b[1;36m0\u001b[0m\u001b[1;33m,\u001b[0m \u001b[1;33m[\u001b[0m\u001b[1;34m'ipo_date'\u001b[0m\u001b[1;33m,\u001b[0m\u001b[1;34m'industry'\u001b[0m\u001b[1;33m]\u001b[0m\u001b[1;33m]\u001b[0m\u001b[1;33m,\u001b[0m \u001b[0mhow\u001b[0m\u001b[1;33m=\u001b[0m\u001b[1;34m'inner'\u001b[0m\u001b[1;33m)\u001b[0m\u001b[1;33m.\u001b[0m\u001b[0mreset_index\u001b[0m\u001b[1;33m(\u001b[0m\u001b[1;33m)\u001b[0m\u001b[1;33m\u001b[0m\u001b[1;33m\u001b[0m\u001b[0m\n\u001b[0m\u001b[0;32m      7\u001b[0m \u001b[0mfbase\u001b[0m\u001b[1;33m[\u001b[0m\u001b[1;34m'ipodays'\u001b[0m\u001b[1;33m]\u001b[0m \u001b[1;33m=\u001b[0m \u001b[0mfbase\u001b[0m\u001b[1;33m.\u001b[0m\u001b[0mapply\u001b[0m\u001b[1;33m(\u001b[0m\u001b[1;32mlambda\u001b[0m \u001b[0mx\u001b[0m\u001b[1;33m:\u001b[0m \u001b[1;33m(\u001b[0m\u001b[0mx\u001b[0m\u001b[1;33m.\u001b[0m\u001b[0mdate\u001b[0m \u001b[1;33m-\u001b[0m \u001b[0mdatetime\u001b[0m\u001b[1;33m.\u001b[0m\u001b[0mstrptime\u001b[0m\u001b[1;33m(\u001b[0m\u001b[0mstr\u001b[0m\u001b[1;33m(\u001b[0m\u001b[0mx\u001b[0m\u001b[1;33m.\u001b[0m\u001b[0mipo_date\u001b[0m\u001b[1;33m)\u001b[0m\u001b[1;33m,\u001b[0m \u001b[1;34m'%Y%m%d'\u001b[0m\u001b[1;33m)\u001b[0m\u001b[1;33m)\u001b[0m\u001b[1;33m.\u001b[0m\u001b[0mdays\u001b[0m\u001b[1;33m,\u001b[0m \u001b[0maxis\u001b[0m\u001b[1;33m=\u001b[0m\u001b[1;36m1\u001b[0m\u001b[1;33m)\u001b[0m\u001b[1;33m\u001b[0m\u001b[1;33m\u001b[0m\u001b[0m\n\u001b[0;32m      8\u001b[0m \u001b[0mfbase\u001b[0m \u001b[1;33m=\u001b[0m \u001b[0mfbase\u001b[0m\u001b[1;33m.\u001b[0m\u001b[0mset_index\u001b[0m\u001b[1;33m(\u001b[0m\u001b[1;33m[\u001b[0m\u001b[1;34m'date'\u001b[0m\u001b[1;33m,\u001b[0m \u001b[1;34m'code'\u001b[0m\u001b[1;33m]\u001b[0m\u001b[1;33m)\u001b[0m\u001b[1;33m\u001b[0m\u001b[1;33m\u001b[0m\u001b[0m\n",
      "\u001b[1;31mAttributeError\u001b[0m: 'NoneType' object has no attribute 'loc'"
     ]
    }
   ],
   "source": [
    "fcnd = qtx.QA_fetch_stock_day_adv(list(code_list.code),\n",
    "                                  start=(datetime.today()-timedelta(days=720)).strftime('%Y-%m-%d'), \n",
    "                                  end=datetime.today().strftime('%Y-%m-%d')).to_qfq()\n",
    "fbase = fcnd.data.join(finfo.loc[finfo.ipo_date != 0, ['ipo_date','industry']], how='inner').reset_index()\n",
    "fbase['ipodays'] = fbase.apply(lambda x: (x.date - datetime.strptime(str(x.ipo_date), '%Y%m%d')).days, axis=1)\n",
    "fbase = fbase.set_index(['date', 'code']) \n",
    "fbase.head()"
   ]
  },
  {
   "cell_type": "code",
   "execution_count": null,
   "metadata": {},
   "outputs": [],
   "source": [
    "def ma_lines(data, col, N):\n",
    "    ma = data[col] - qtx.MA(data[col], N) \n",
    "    #ema = qtx.EMA(data[col], N) / data[col]\n",
    "    #sma = qtx.SMA(data[col], N) / data[col]\n",
    "    #ub = (ma + 2 * qtx.STD(data[col], N)) / data[col]\n",
    "    #lb = qtx.MAX((ma - 2 * qtx.STD(data[col], N)), data['zero']) / data[col]\n",
    "    #return pd.DataFrame({'MA': ma, 'EMA': ema, 'SMA': sma, 'UB': ub, 'LB': lb})\n",
    "    return pd.DataFrame({'MA': ma})"
   ]
  },
  {
   "cell_type": "code",
   "execution_count": null,
   "metadata": {},
   "outputs": [],
   "source": [
    "ma=fcnd.add_func(ma_lines, col='close', N=20).loc[:, 'MA']\n",
    "ma.head()"
   ]
  },
  {
   "cell_type": "code",
   "execution_count": null,
   "metadata": {},
   "outputs": [],
   "source": [
    "fma = pd.merge(fbase, ma, on=['date', 'code']).reset_index()\n",
    "fbk = pd.merge(fma.loc[fma.ipodays>60, ['date', 'code', 'MA']], raw.loc[:, ['c', 'ind_cat1']], left_on='code', right_on='c')\n",
    "fbk.head()"
   ]
  },
  {
   "cell_type": "code",
   "execution_count": null,
   "metadata": {},
   "outputs": [],
   "source": [
    "bk_all = fbk.groupby(['ind_cat1', 'date'])['code'].count()\n",
    "bk_high = fbk.loc[fbk.MA > 0, :].groupby(['ind_cat1', 'date'])['code'].count()\n",
    "bk_rate = pd.concat([bk_high, bk_all], axis=1)\n",
    "bk_rate.columns=['high', 'all']\n",
    "bk_rate.reset_index(inplace=True)\n",
    "bk_rate['rate'] = bk_rate['high'] / bk_rate['all']\n",
    "bk_rate['rate'].fillna(0, inplace=True)\n",
    "bk_rate.head(10)"
   ]
  },
  {
   "cell_type": "code",
   "execution_count": null,
   "metadata": {},
   "outputs": [],
   "source": [
    "pvt= pd.pivot(bk_rate.loc[bk_rate['rate'] >=0, :], index='date', columns='ind_cat1', values='rate')\n",
    "pvt.head()"
   ]
  },
  {
   "cell_type": "code",
   "execution_count": null,
   "metadata": {},
   "outputs": [],
   "source": [
    "pvt.reset_index(inplace=True)\n",
    "pvt['day']=pvt['date'].apply(lambda x: x.strftime('%Y-%m-%d'))\n",
    "pvt.set_index('day', inplace=True)\n",
    "pvt.drop(columns=['date'], inplace=True)\n",
    "pvt.sort_index(ascending=False, inplace=True)\n",
    "pvt.to_excel('market_breadth.xls')"
   ]
  },
  {
   "cell_type": "code",
   "execution_count": 37,
   "metadata": {},
   "outputs": [],
   "source": []
  },
  {
   "cell_type": "code",
   "execution_count": null,
   "metadata": {},
   "outputs": [],
   "source": []
  }
 ],
 "metadata": {
  "kernelspec": {
   "display_name": "quant",
   "language": "python",
   "name": "quant"
  },
  "language_info": {
   "codemirror_mode": {
    "name": "ipython",
    "version": 3
   },
   "file_extension": ".py",
   "mimetype": "text/x-python",
   "name": "python",
   "nbconvert_exporter": "python",
   "pygments_lexer": "ipython3",
   "version": "3.7.9"
  }
 },
 "nbformat": 4,
 "nbformat_minor": 4
}
