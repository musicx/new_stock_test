{
 "cells": [
  {
   "cell_type": "code",
   "execution_count": 1,
   "metadata": {},
   "outputs": [],
   "source": [
    "import numpy as np\n",
    "import pandas as pd"
   ]
  },
  {
   "cell_type": "code",
   "execution_count": 53,
   "metadata": {},
   "outputs": [],
   "source": [
    "raw = pd.read_csv(\"c:\\\\Users\\\\mUSicX\\\\Downloads\\\\SW20210113.csv\")\n",
    "raw['c'] = raw.code.apply(lambda x: x[:6])\n",
    "raw['mkt'] = raw.code.apply(lambda x: 0 if x.endswith('SZ') else 1)\n",
    "raw['ind_cat1'] = raw.ind.apply(lambda x: x.split('--')[0].replace('I', ''))\n",
    "raw['ind_cat2'] = raw.ind.apply(lambda x: '-'.join(x.split('--')[:2]).replace('I', '').replace('Ⅱ', ''))\n",
    "raw['ind_cat3'] = raw.ind.apply(lambda x: '-'.join(x.split('--')[:3]).replace('I', '').replace('Ⅱ', '').replace('Ⅲ', ''))\n"
   ]
  },
  {
   "cell_type": "code",
   "execution_count": 54,
   "metadata": {},
   "outputs": [
    {
     "name": "stderr",
     "output_type": "stream",
     "text": [
      "C:\\MyProgram\\anaconda\\envs\\jqdata\\lib\\site-packages\\ipykernel_launcher.py:2: FutureWarning: The signature of `Series.to_csv` was aligned to that of `DataFrame.to_csv`, and argument 'header' will change its default value from False to True: please pass an explicit value to suppress this warning.\n",
      "  \n",
      "C:\\MyProgram\\anaconda\\envs\\jqdata\\lib\\site-packages\\ipykernel_launcher.py:4: FutureWarning: The signature of `Series.to_csv` was aligned to that of `DataFrame.to_csv`, and argument 'header' will change its default value from False to True: please pass an explicit value to suppress this warning.\n",
      "  after removing the cwd from sys.path.\n",
      "C:\\MyProgram\\anaconda\\envs\\jqdata\\lib\\site-packages\\ipykernel_launcher.py:6: FutureWarning: The signature of `Series.to_csv` was aligned to that of `DataFrame.to_csv`, and argument 'header' will change its default value from False to True: please pass an explicit value to suppress this warning.\n",
      "  \n"
     ]
    }
   ],
   "source": [
    "s1 = raw.groupby(['ind_cat1'])['c'].apply(lambda x: ','.join(x))\n",
    "s1.to_csv('c:\\\\Users\\\\mUSicX\\\\Documents\\\\股票相关\\\\cat1_code.txt', encoding='gbk')\n",
    "s2 = raw.groupby(['ind_cat2'])['c'].apply(lambda x: ','.join(x))\n",
    "s2.to_csv('c:\\\\Users\\\\mUSicX\\\\Documents\\\\股票相关\\\\cat2_code.txt', encoding='gbk')\n",
    "s3 = raw.groupby(['ind_cat3'])['c'].apply(lambda x: ','.join(x))\n",
    "s3.to_csv('c:\\\\Users\\\\mUSicX\\\\Documents\\\\股票相关\\\\cat3_code.txt', encoding='gbk')"
   ]
  },
  {
   "cell_type": "code",
   "execution_count": 3,
   "metadata": {},
   "outputs": [],
   "source": [
    "s = ['600611', '002357']"
   ]
  },
  {
   "cell_type": "code",
   "execution_count": 31,
   "metadata": {},
   "outputs": [],
   "source": [
    "with open('test.byte', 'wb') as b:\n",
    "     b.write(bytes([1, 0]) + s[0].encode('ascii') + bytes([0] * 8))"
   ]
  },
  {
   "cell_type": "code",
   "execution_count": 30,
   "metadata": {},
   "outputs": [],
   "source": [
    "with open('test.byte', 'wb') as b:\n",
    "     b.write((chr(1) + chr(0) + s[0] + chr(0)*8).encode('ascii'))"
   ]
  },
  {
   "cell_type": "code",
   "execution_count": 22,
   "metadata": {},
   "outputs": [
    {
     "data": {
      "text/plain": [
       "17"
      ]
     },
     "execution_count": 22,
     "metadata": {},
     "output_type": "execute_result"
    }
   ],
   "source": [
    "name = 'SW传媒'\n",
    "b = (chr(1) + chr(0)*3 + '393001' + chr(0)).encode('ascii') + name.encode('gbk') \n",
    "first_len = len(b)\n",
    "b += bytes() (chr(0)*(54-first_len) + chr(2) + chr(0) + chr(5) + chr(180) + chr(50) + chr(1) + chr(0)*2 + chr(122) + chr(68) + chr(60) + chr(0)*127).encode('ascii')\n",
    "\n"
   ]
  },
  {
   "cell_type": "code",
   "execution_count": 57,
   "metadata": {},
   "outputs": [],
   "source": [
    "nm = {}\n",
    "with open('c:\\\\mywork\\\\data\\\\sw_block\\\\list.csv', 'r') as f:\n",
    "    line = f.readline()\n",
    "    while line:\n",
    "        nm[line.split(',')[1]] = [line.split(',')[2], line.split(',')[0]]\n",
    "        line = f.readline()"
   ]
  },
  {
   "cell_type": "code",
   "execution_count": 55,
   "metadata": {},
   "outputs": [],
   "source": [
    "f1 = 'c:\\\\Users\\\\mUSicX\\\\Documents\\\\股票相关\\\\cat1_code.txt'\n",
    "f2 = 'c:\\\\Users\\\\mUSicX\\\\Documents\\\\股票相关\\\\cat2_code.txt'\n",
    "f3 = 'c:\\\\Users\\\\mUSicX\\\\Documents\\\\股票相关\\\\cat3_code.txt'\n",
    "\n",
    "lf = open('c:\\\\mywork\\\\data\\\\sw_block\\\\lcidx.lii', 'wb')\n",
    "ll = open('c:\\\\mywork\\\\data\\\\sw_block\\\\list.txt', 'w')\n",
    "\n",
    "ic = 1\n",
    "with open(f1, 'r', encoding='gbk') as f:\n",
    "    line = f.readline()\n",
    "    while line:\n",
    "        line = f.readline()\n",
    "        line = line.replace('\"', '')\n",
    "        name = line.split(',')[0]\n",
    "        stocks = line.split(',')[1:]\n",
    "        len_st = len(stocks)\n",
    "        if len_st > 0:\n",
    "            len_up = int(len_st / 256) if len_st > 255 else 0\n",
    "            len_st = len_st % 256\n",
    "\n",
    "            ic_full = 393000 + ic\n",
    "            ic_bytes = (chr(1) + chr(0)*3 + '{}'.format(ic_full) + chr(0)).encode('ascii') + name[:4].encode('gbk')\n",
    "            ic_len = len(ic_bytes)\n",
    "            ic_bytes += bytes([0]*(52-ic_len) + [len_st, len_up, 2, 0, 5, 180, 50, 1, 0, 0, 122, 68, 60] + [0]*255)\n",
    "            lf.write(ic_bytes)\n",
    "\n",
    "            ll.write('{},{},{}\\n'.format(ic_full, name, len(stocks)))\n",
    "\n",
    "            ic += 1\n",
    "\n",
    "            sf = open('c:\\\\mywork\\\\data\\\\sw_block\\\\{}.cis'.format(ic_full), 'wb')\n",
    "            for s in stocks:\n",
    "                ss = chr(1) if s.startswith('6') else chr(0)\n",
    "                sf.write((ss + chr(0) + s[:6] + chr(0)*8).encode('ascii'))\n",
    "            sf.close()\n",
    "\n",
    "ic = 1\n",
    "with open(f2, 'r', encoding='gbk') as f:\n",
    "    line = f.readline()\n",
    "    while line:\n",
    "        line = f.readline()\n",
    "        line = line.replace('\"', '')\n",
    "        name = line.split(',')[0]\n",
    "        stocks = line.split(',')[1:]\n",
    "        len_st = len(stocks)\n",
    "        if len_st > 0:\n",
    "            len_up = int(len_st / 256) if len_st > 255 else 0\n",
    "            len_st = len_st % 256\n",
    "\n",
    "            ic_full = 393100 + ic\n",
    "            ic_bytes = (chr(1) + chr(0)*3 + '{}'.format(ic_full) + chr(0)).encode('ascii') + name.split('-')[1][:4].encode('gbk')\n",
    "            ic_len = len(ic_bytes)\n",
    "            ic_bytes += bytes([0]*(52-ic_len) + [len_st, len_up, 2, 0, 5, 180, 50, 1, 0, 0, 122, 68, 60] + [0]*255)\n",
    "            lf.write(ic_bytes)\n",
    "\n",
    "            ll.write('{},{},{}\\n'.format(ic_full, name, len(stocks)))\n",
    "            ic += 1\n",
    "\n",
    "            sf = open('c:\\\\mywork\\\\data\\\\sw_block\\\\{}.cis'.format(ic_full), 'wb')\n",
    "            for s in stocks:\n",
    "                ss = chr(1) if s.startswith('6') else chr(0)\n",
    "                sf.write((ss + chr(0) + s[:6] + chr(0)*8).encode('ascii'))\n",
    "            sf.close()  \n",
    "        \n",
    "ic = 1\n",
    "with open(f3, 'r', encoding='gbk') as f:\n",
    "    line = f.readline()\n",
    "    while line:\n",
    "        line = f.readline()\n",
    "        line = line.replace('\"', '')\n",
    "        name = line.split(',')[0]\n",
    "        stocks = line.split(',')[1:]\n",
    "        len_st = len(stocks)\n",
    "        if len_st > 0:\n",
    "            len_up = int(len_st / 256) if len_st > 255 else 0\n",
    "            len_st = len_st % 256\n",
    "\n",
    "            ic_full = 393300 + ic\n",
    "            ic_bytes = (chr(1) + chr(0)*3 + '{}'.format(ic_full) + chr(0)).encode('ascii') + name.split('-')[2][:4].encode('gbk')\n",
    "            ic_len = len(ic_bytes)\n",
    "            ic_bytes += bytes([0]*(52-ic_len) + [len_st, len_up, 2, 0, 5, 180, 50, 1, 0, 0, 122, 68, 60] + [0]*255)\n",
    "            lf.write(ic_bytes)\n",
    "\n",
    "            ll.write('{},{},{}\\n'.format(ic_full, name, len(stocks)))\n",
    "\n",
    "            ic += 1\n",
    "\n",
    "            sf = open('c:\\\\mywork\\\\data\\\\sw_block\\\\{}.cis'.format(ic_full), 'wb')\n",
    "            for s in stocks:\n",
    "                ss = chr(1) if s.startswith('6') else chr(0)\n",
    "                sf.write((ss + chr(0) + s[:6] + chr(0)*8).encode('ascii'))\n",
    "            sf.close()  \n",
    "\n",
    "lf.close()\n",
    "ll.close()"
   ]
  },
  {
   "cell_type": "code",
   "execution_count": 60,
   "metadata": {},
   "outputs": [],
   "source": [
    "f1 = 'c:\\\\Users\\\\mUSicX\\\\Documents\\\\股票相关\\\\cat1_code.txt'\n",
    "f2 = 'c:\\\\Users\\\\mUSicX\\\\Documents\\\\股票相关\\\\cat2_code.txt'\n",
    "f3 = 'c:\\\\Users\\\\mUSicX\\\\Documents\\\\股票相关\\\\cat3_code.txt'\n",
    "\n",
    "lf = open('c:\\\\mywork\\\\data\\\\sw_block\\\\lcidx.lii', 'wb')\n",
    "\n",
    "with open(f1, 'r', encoding='gbk') as f:\n",
    "    line = f.readline()\n",
    "    while line:\n",
    "        line = f.readline()\n",
    "        line = line.replace('\"', '')\n",
    "        fullname = line.split(',')[0]\n",
    "        if len(fullname) > 0:\n",
    "            name = nm[fullname][0]\n",
    "            stocks = line.split(',')[1:]\n",
    "            len_st = len(stocks)\n",
    "            if len_st > 0:\n",
    "                len_up = int(len_st / 256) if len_st > 255 else 0\n",
    "                len_st = len_st % 256\n",
    "                bc = nm[fullname][1]\n",
    "                if len(bc) > 0:\n",
    "                    ic_bytes = (chr(1) + chr(0)*3 + '{}'.format(bc) + chr(0)).encode('ascii') + name[:4].encode('gbk')\n",
    "                    ic_len = len(ic_bytes)\n",
    "                    ic_bytes += bytes([0]*(52-ic_len) + [len_st, len_up, 2, 0, 5, 180, 50, 1, 0, 0, 122, 68, 60] + [0]*255)\n",
    "                    lf.write(ic_bytes)\n",
    "\n",
    "                    sf = open('c:\\\\mywork\\\\data\\\\sw_block\\\\{}.cis'.format(bc), 'wb')\n",
    "                    for s in stocks:\n",
    "                        ss = chr(1) if s.startswith('6') else chr(0)\n",
    "                        sf.write((ss + chr(0) + s[:6] + chr(0)*8).encode('ascii'))\n",
    "                    sf.close()\n",
    "\n",
    "\n",
    "with open(f2, 'r', encoding='gbk') as f:\n",
    "    line = f.readline()\n",
    "    while line:\n",
    "        line = f.readline()\n",
    "        line = line.replace('\"', '')\n",
    "        fullname = line.split(',')[0]\n",
    "        if len(fullname) > 0:\n",
    "            name = nm[fullname][0]\n",
    "            stocks = line.split(',')[1:]\n",
    "            len_st = len(stocks)\n",
    "            if len_st > 0:\n",
    "                len_up = int(len_st / 256) if len_st > 255 else 0\n",
    "                len_st = len_st % 256\n",
    "\n",
    "                bc = nm[fullname][1]\n",
    "                if len(bc) > 0:\n",
    "                    ic_bytes = (chr(1) + chr(0)*3 + '{}'.format(bc) + chr(0)).encode('ascii') + name[:4].encode('gbk')\n",
    "                    ic_len = len(ic_bytes)\n",
    "                    ic_bytes += bytes([0]*(52-ic_len) + [len_st, len_up, 2, 0, 5, 180, 50, 1, 0, 0, 122, 68, 60] + [0]*255)\n",
    "                    lf.write(ic_bytes)\n",
    "\n",
    "                    sf = open('c:\\\\mywork\\\\data\\\\sw_block\\\\{}.cis'.format(bc), 'wb')\n",
    "                    for s in stocks:\n",
    "                        ss = chr(1) if s.startswith('6') else chr(0)\n",
    "                        sf.write((ss + chr(0) + s[:6] + chr(0)*8).encode('ascii'))\n",
    "                    sf.close()\n",
    "\n",
    "with open(f3, 'r', encoding='gbk') as f:\n",
    "    line = f.readline()\n",
    "    while line:\n",
    "        line = f.readline()\n",
    "        line = line.replace('\"', '')\n",
    "        fullname = line.split(',')[0]\n",
    "        if len(fullname) > 0:\n",
    "            name = nm[fullname][0]\n",
    "            stocks = line.split(',')[1:]\n",
    "            len_st = len(stocks)\n",
    "            if len_st > 0:\n",
    "                len_up = int(len_st / 256) if len_st > 255 else 0\n",
    "                len_st = len_st % 256\n",
    "                bc = nm[fullname][1]\n",
    "                if len(bc) > 0:\n",
    "                    ic_bytes = (chr(1) + chr(0)*3 + '{}'.format(bc) + chr(0)).encode('ascii') + name[:4].encode('gbk')\n",
    "                    ic_len = len(ic_bytes)\n",
    "                    ic_bytes += bytes([0]*(52-ic_len) + [len_st, len_up, 2, 0, 5, 180, 50, 1, 0, 0, 122, 68, 60] + [0]*255)\n",
    "                    lf.write(ic_bytes)\n",
    "\n",
    "                    sf = open('c:\\\\mywork\\\\data\\\\sw_block\\\\{}.cis'.format(bc), 'wb')\n",
    "                    for s in stocks:\n",
    "                        ss = chr(1) if s.startswith('6') else chr(0)\n",
    "                        sf.write((ss + chr(0) + s[:6] + chr(0)*8).encode('ascii'))\n",
    "                    sf.close()\n",
    "\n",
    "lf.close()\n"
   ]
  },
  {
   "cell_type": "code",
   "execution_count": null,
   "metadata": {},
   "outputs": [],
   "source": []
  }
 ],
 "metadata": {
  "kernelspec": {
   "display_name": "jqData",
   "language": "python",
   "name": "jqdata"
  },
  "language_info": {
   "codemirror_mode": {
    "name": "ipython",
    "version": 3
   },
   "file_extension": ".py",
   "mimetype": "text/x-python",
   "name": "python",
   "nbconvert_exporter": "python",
   "pygments_lexer": "ipython3",
   "version": "3.7.9"
  }
 },
 "nbformat": 4,
 "nbformat_minor": 4
}
